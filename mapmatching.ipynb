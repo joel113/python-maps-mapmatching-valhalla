{
 "cells": [
  {
   "cell_type": "code",
   "execution_count": 1,
   "metadata": {},
   "outputs": [],
   "source": [
    "import folium\n",
    "import pandas as pd\n",
    "import geopandas as gpd\n",
    "import json\n",
    "import requests\n",
    "from shapely.geometry.linestring import LineString\n",
    "from pyproj import Geod"
   ]
  },
  {
   "attachments": {},
   "cell_type": "markdown",
   "metadata": {},
   "source": [
    "# Map Matching with Valhalla Melli\n",
    "\n",
    "This jupyter notebook demonstrates as part of the python-maps-map-matching project map matching with Valhalla Melli. Please go to the (README.md)[README.md] for more information about Valhalla Melli and how to run it using a Docker container. This projects folium, pandas, geopandas, json, requests, shapely and pyproj.\n",
    "\n",
    "[Shapely](https://shapely.readthedocs.io/en/stable/index.html) is a python package for the manipulation and analysis of planar geometric objects.\n",
    "\n",
    "[Pandas](https://pandas.pydata.org/) is a popular python package for data analysis.\n",
    "\n",
    "[Geopandas](https://geopandas.org/en/stable/) is a package for data analysis of geospatial data.\n",
    "\n",
    "[Json](https://docs.python.org/3/library/json.html) is a package for JSON encoding and decoding.\n",
    "\n",
    "[Requests](https://requests.readthedocs.io/en/latest/) is a package for HTTP requests in python.\n",
    "\n",
    "[Pyproj](https://pyproj4.github.io/pyproj/stable/) is a package for cartographic projections and coordinate transformations.\n",
    "\n",
    "## Disclaimer\n",
    "\n",
    "The code of this jupyter notebook is derived from the github repository [galaviz-mx](https://github.com/galaviz-mx/Valhalla-MapMatching).\n"
   ]
  }
 ],
 "metadata": {
  "kernelspec": {
   "display_name": "Python 3",
   "language": "python",
   "name": "python3"
  },
  "language_info": {
   "codemirror_mode": {
    "name": "ipython",
    "version": 3
   },
   "file_extension": ".py",
   "mimetype": "text/x-python",
   "name": "python",
   "nbconvert_exporter": "python",
   "pygments_lexer": "ipython3",
   "version": "3.10.9"
  },
  "orig_nbformat": 4,
  "vscode": {
   "interpreter": {
    "hash": "b0fa6594d8f4cbf19f97940f81e996739fb7646882a419484c72d19e05852a7e"
   }
  }
 },
 "nbformat": 4,
 "nbformat_minor": 2
}
